{
 "cells": [
  {
   "cell_type": "markdown",
   "metadata": {},
   "source": [
    "# Cl"
   ]
  },
  {
   "cell_type": "markdown",
   "metadata": {},
   "source": [
    "## Tasks Today:\n",
    " \n",
    "1) <b>In-Place Algorithms</b> <br>\n",
    " &nbsp;&nbsp;&nbsp;&nbsp; a) Syntax <br>\n",
    " &nbsp;&nbsp;&nbsp;&nbsp; a) Out of Place Algorithm <br>\n",
    " &nbsp;&nbsp;&nbsp;&nbsp; b) In-Class Exercise #1 <br>\n",
    "2) <b>Two Pointers</b> <br>\n",
    "3) <b>Linked Lists</b> <br>\n",
    "4) <b>Merge Sort</b> <br>\n",
    " &nbsp;&nbsp;&nbsp;&nbsp; a) Video on Algorithms <br>\n",
    " &nbsp;&nbsp;&nbsp;&nbsp; b) How it Works <br>\n",
    "5) <b>Exercises</b> <br>\n",
    " &nbsp;&nbsp;&nbsp;&nbsp; a) Exercise #1 - Reverse a List in Place Using an In-Place Algorithm <br>\n",
    " &nbsp;&nbsp;&nbsp;&nbsp; b) Exercise #2 - Find Distinct Words <br>\n",
    " &nbsp;&nbsp;&nbsp;&nbsp; c) Exercise #3 - Write a program to implement a Linear Search Algorithm. <br>"
   ]
  },
  {
   "cell_type": "markdown",
   "metadata": {},
   "source": [
    "## In-Place Algorithms"
   ]
  },
  {
   "cell_type": "markdown",
   "metadata": {},
   "source": [
    "#### Syntax"
   ]
  },
  {
   "cell_type": "code",
   "execution_count": 12,
   "metadata": {},
   "outputs": [],
   "source": [
    "def double_nums(a_list):\n",
    "    print(hex(id(a_list)))\n",
    "    for idx in range(len(a_list)):\n",
    "        a_list[idx] *= 2 "
   ]
  },
  {
   "cell_type": "code",
   "execution_count": 13,
   "metadata": {},
   "outputs": [
    {
     "name": "stdout",
     "output_type": "stream",
     "text": [
      "0x1ac2d6b5880\n"
     ]
    }
   ],
   "source": [
    "nums = [1,2,3,4,5]\n",
    "double_nums(nums)"
   ]
  },
  {
   "cell_type": "code",
   "execution_count": 14,
   "metadata": {},
   "outputs": [
    {
     "data": {
      "text/plain": [
       "[2, 4, 6, 8, 10]"
      ]
     },
     "execution_count": 14,
     "metadata": {},
     "output_type": "execute_result"
    }
   ],
   "source": [
    "nums"
   ]
  },
  {
   "cell_type": "markdown",
   "metadata": {},
   "source": [
    "#### Out of Place Algorithm"
   ]
  },
  {
   "cell_type": "code",
   "execution_count": null,
   "metadata": {},
   "outputs": [],
   "source": [
    "\n"
   ]
  },
  {
   "cell_type": "markdown",
   "metadata": {},
   "source": [
    "#### In-Class Exercise #1 <br>\n",
    "<p>Write a function that takes in four arguments (list, index1, index2, index3), and swaps those three positions in the list passed in.</p>"
   ]
  },
  {
   "cell_type": "code",
   "execution_count": 17,
   "metadata": {},
   "outputs": [
    {
     "name": "stdout",
     "output_type": "stream",
     "text": [
      "[2, 1, 3]\n"
     ]
    }
   ],
   "source": [
    "nums = [1,2,3]\n",
    "\n",
    "nums[0], nums[1] = nums[1], nums[0]\n",
    "print(nums)"
   ]
  },
  {
   "cell_type": "code",
   "execution_count": null,
   "metadata": {},
   "outputs": [],
   "source": [
    "l_1 = [10, 4, 3, 8, 4, 2, 6]\n",
    "swap out of place\n",
    "def swap_op(a_list, idx1, idx2, idx3):\n",
    "    a_list = a_list[:]\n",
    "    a_list[idx1], a_list[idx2], a_list[idx3] = a_list[idx3], a_list[idx2], a_list[idx1]\n",
    "    return a_list\n",
    "\n",
    "swap in place\n",
    "def swap_ip(a_list, idx1, idx2, idx3):\n",
    "    a_list[idx1], a_list[idx2], a_list[idx3] = a_list[idx3], a_list[idx2], a_list[idx1]\n",
    "\n",
    "    \n",
    "    \n",
    "    "
   ]
  },
  {
   "cell_type": "markdown",
   "metadata": {},
   "source": [
    "## Two Pointers"
   ]
  },
  {
   "cell_type": "markdown",
   "metadata": {},
   "source": [
    "#### Syntax"
   ]
  },
  {
   "cell_type": "code",
   "execution_count": 24,
   "metadata": {},
   "outputs": [],
   "source": [
    "# comparing two indices of a list at the same time or swap indices as you're running through a list\n",
    "# write an algorithm to reverse a given list - swapping indices as we run through\n",
    "#  i         j \n",
    "# [1,2,3,4,5,6]\n",
    "#    i     j\n",
    "# [6,2,3,4,5,1]\n",
    "#      i j\n",
    "# [6,5,3,4,2,1]\n",
    "#      j i \n",
    "# [6,5,4,3,2,1]\n",
    "\n",
    "\n",
    "# Step 1: define i or pointer 1 as 0\n",
    "# Step 2: define pointer 2 as len(list)-1\n",
    "# Step 3: swap items at positions of pointer 1 and pointer 2\n",
    "# Step 4: increment pointer 1, \n",
    "# Step 5: decrement pointer 2\n",
    "# Step 6: repeat steps 3,4,5 until pointer 1 > pointer 2\n",
    "\n",
    "def reverse(a_list):\n",
    "    # Step 1\n",
    "    i = 0 # pointer 1\n",
    "    \n",
    "    # Step 2\n",
    "    j = len(a_list) - 1 # pointer 2\n",
    "    \n",
    "    # Step 6\n",
    "    while i < j:\n",
    "        # Step 3\n",
    "        a_list[i], a_list[j] = a_list[j], a_list[i]\n",
    "        # Step 4\n",
    "        i += 1\n",
    "        # Step 5\n",
    "        j -= 1\n",
    "\n",
    "nums =[2,7,11,15]"
   ]
  },
  {
   "cell_type": "code",
   "execution_count": 25,
   "metadata": {},
   "outputs": [
    {
     "name": "stdout",
     "output_type": "stream",
     "text": [
      "[15, 11, 7, 2]\n"
     ]
    }
   ],
   "source": [
    "reverse(nums)\n",
    "\n",
    "print(nums)"
   ]
  },
  {
   "cell_type": "markdown",
   "metadata": {},
   "source": [
    "### Two Sum\n",
    "\n",
    "Given an array of integers nums and an integer target, return indices of the two numbers such that they add up to target.\n",
    "\n",
    "You may assume that each input would have exactly one solution, and you may not use the same element twice.\n",
    "\n",
    "You can return the answer in any order.\n",
    "\n",
    "Example 1:\n",
    "Input: nums = [2,7,11,15], target = 9\n",
    "Output: [0,1]\n",
    "Explanation: Because nums[0] + nums[1] == 9, we return [0, 1].\n",
    "\n",
    "Example 2:\n",
    "Input: nums = [3,2,4], target = 6\n",
    "Output: [1,2]\n",
    "\n",
    "Example 3:\n",
    "Input: nums = [3,3], target = 6\n",
    "Output: [0,1]"
   ]
  },
  {
   "cell_type": "code",
   "execution_count": 34,
   "metadata": {},
   "outputs": [
    {
     "data": {
      "text/plain": [
       "([0], [1])"
      ]
     },
     "execution_count": 34,
     "metadata": {},
     "output_type": "execute_result"
    }
   ],
   "source": [
    "# Step 1: define pointer 1 as i = 0\n",
    "# Step 2: define pointer 2 as j = len(list) -1\n",
    "# Step 3: check if number at i + number at j = target if it does we return\n",
    "# Step 4: decrement j\n",
    "# Step 5: repeat steps 3 and 4 until j = i\n",
    "# Step 6: increment i\n",
    "# Step 7: reset j = len(list) - 1\n",
    "# Step 8: repeat 3-7\n",
    "\n",
    "def two_sum(a_list, target):\n",
    "     # Step 1\n",
    "    i = 0 # pointer 1\n",
    "    \n",
    "    # Step 8\n",
    "    while i < len(a_list):\n",
    "    \n",
    "        # Step 2 / Step 7 \n",
    "        j = len(a_list) - 1 # pointer 2\n",
    "\n",
    "        # Step 5\n",
    "        while j > i:\n",
    "\n",
    "        #    Step 3\n",
    "            if a_list[i] + a_list[j] == target:\n",
    "                return [i], [j]\n",
    "\n",
    "            # Step 4\n",
    "            j -= 1\n",
    "\n",
    "        # Step 6\n",
    "        i += 1\n",
    "        \n",
    "nums = [2,7,11,15]\n",
    "two_sum(nums, 9)\n",
    "\n",
    "nums = [3,2,4]\n",
    "two_sum(nums, 6)\n",
    "\n",
    "nums =  [3,3]\n",
    "two_sum(nums, 6)"
   ]
  },
  {
   "cell_type": "markdown",
   "metadata": {},
   "source": [
    "#### Video of Algorithms <br>\n",
    "<p>Watch the video about algorithms.</p>\n",
    "\n",
    "https://www.youtube.com/watch?v=Q9HjeFD62Uk\n",
    "\n",
    "https://www.youtube.com/watch?v=kPRA0W1kECg\n",
    "\n",
    "https://www.youtube.com/watch?v=ZZuD6iUe3Pc"
   ]
  },
  {
   "cell_type": "markdown",
   "metadata": {},
   "source": [
    "# Sorting Algorithms"
   ]
  },
  {
   "cell_type": "markdown",
   "metadata": {},
   "source": [
    "#### Bubble Sort\n",
    "\n",
    "Worst Case: O(n^2) Time - O(1) Space"
   ]
  },
  {
   "cell_type": "code",
   "execution_count": 66,
   "metadata": {},
   "outputs": [],
   "source": [
    "# Step 1: set pointer 1 at the beginning of the list \n",
    "# Step 2: set the end index to the length of the list - 1\n",
    "# Step 3: Set flag of sorted to False\n",
    "# Step 4:\n",
    "# Step 5:\n",
    "# Step 6:\n",
    "# Step 7:\n",
    "\n",
    "\n",
    "def bubble_sort(a_list):\n",
    "    a_list = a_list[:] #copy list to make it out of place\n",
    "    \n",
    "    end_index = len(a_list) - 1\n",
    "    \n",
    "    is_sorted = False\n",
    "    \n",
    "    while not is_sorted:\n",
    "        is_sorted = True\n",
    "        \n",
    "        for i in range(end_index):\n",
    "            j = i + 1\n",
    "            \n",
    "            if a_list[i] > a_list[j]:\n",
    "                a_list[i], a_list[j] = a_list[j], a_list[i]\n",
    "                is_sorted = False\n",
    "                \n",
    "        end_index -= 1\n",
    "        \n",
    "    return a_list\n"
   ]
  },
  {
   "cell_type": "code",
   "execution_count": 67,
   "metadata": {},
   "outputs": [
    {
     "data": {
      "text/plain": [
       "[2, 2, 3, 3, 5, 5, 5, 6, 7, 7, 34, 63]"
      ]
     },
     "execution_count": 67,
     "metadata": {},
     "output_type": "execute_result"
    }
   ],
   "source": [
    "bubble_sort([2,5,2, 6, 7,3, 34,5, 63, 7,3,5,])"
   ]
  },
  {
   "cell_type": "markdown",
   "metadata": {},
   "source": [
    "##### Insertion Sort\n",
    "\n",
    "Worst Case: O(n^2) time - O(1)space"
   ]
  },
  {
   "cell_type": "code",
   "execution_count": null,
   "metadata": {},
   "outputs": [],
   "source": []
  },
  {
   "cell_type": "markdown",
   "metadata": {},
   "source": [
    "## Merge Sort"
   ]
  },
  {
   "cell_type": "markdown",
   "metadata": {},
   "source": [
    "#### How it Works"
   ]
  },
  {
   "cell_type": "code",
   "execution_count": null,
   "metadata": {},
   "outputs": [],
   "source": []
  },
  {
   "cell_type": "markdown",
   "metadata": {},
   "source": [
    "# Binary Search\n",
    "\n",
    "The Binary Search algorithm works by finding the number in the middle of a given array and comparing it to the target. Given that the array is sorted\n",
    "\n",
    "* The worst case run time for this algorithm is `O(log(n))`"
   ]
  },
  {
   "cell_type": "code",
   "execution_count": null,
   "metadata": {},
   "outputs": [],
   "source": []
  },
  {
   "cell_type": "markdown",
   "metadata": {},
   "source": [
    "# Exercises"
   ]
  },
  {
   "cell_type": "markdown",
   "metadata": {},
   "source": [
    "### Exercise #1 <br>\n",
    "<p>Reverse the list below in-place using an in-place algorithm.<br>For extra credit: Reverse the strings at the same time.</p>"
   ]
  },
  {
   "cell_type": "code",
   "execution_count": 3,
   "metadata": {},
   "outputs": [],
   "source": [
    "words = ['this' , 'is', 'a', 'sentence', '.']"
   ]
  },
  {
   "cell_type": "code",
   "execution_count": 61,
   "metadata": {},
   "outputs": [
    {
     "name": "stdout",
     "output_type": "stream",
     "text": [
      "['.', 'sentence', 'a', 'is', 'this']\n"
     ]
    }
   ],
   "source": [
    "\n",
    "\n",
    "def reverse(a_list):\n",
    "     # Step 1\n",
    "    i = 0 # pointer 1\n",
    "    \n",
    "    # Step 2\n",
    "    j = len(a_list) - 1 # pointer 2\n",
    "    \n",
    "    # Step 6\n",
    "    while i < j:\n",
    "        # Step 3\n",
    "        a_list[i], a_list[j] = a_list[j], a_list[i]\n",
    "        # Step 4\n",
    "        i += 1\n",
    "        # Step 5\n",
    "        j -= 1\n",
    "        \n",
    "reverse(words)\n",
    "print(words)\n"
   ]
  },
  {
   "cell_type": "code",
   "execution_count": 75,
   "metadata": {},
   "outputs": [
    {
     "name": "stdout",
     "output_type": "stream",
     "text": [
      "['.', 'ecnetnes', 'a', 'si', 'siht']\n"
     ]
    }
   ],
   "source": [
    "def twist(a_list):\n",
    "    twisted_words = []\n",
    "    for string in a_list:\n",
    "        string = string[::-1]\n",
    "        twisted_words.append(string)\n",
    "        \n",
    "    for i in range(len(a_list)):\n",
    "        a_list[i] = twisted_words[i]\n",
    "        \n",
    "    i = 0 # pointer 1\n",
    "    j = len(a_list) - 1 # pointer 2\n",
    "\n",
    "    while i < j:\n",
    "        a_list[i], a_list[j] = a_list[j], a_list[i]\n",
    "        i += 1\n",
    "        j -= 1\n",
    "\n",
    "            \n",
    "            \n",
    "twist(words)\n",
    "print(words)"
   ]
  },
  {
   "cell_type": "code",
   "execution_count": 76,
   "metadata": {},
   "outputs": [
    {
     "name": "stdout",
     "output_type": "stream",
     "text": [
      "['siht', 'si', 'a', 'ecnetnes', '.']\n"
     ]
    }
   ],
   "source": [
    "def quick(al):\n",
    "    i, j  = 0, len(al) - 1\n",
    "    while i< j:\n",
    "        al[i], al[j] = al[j], al[i]\n",
    "        i, j = i+1, j - 1\n",
    "\n",
    "    for i in range(len(al)):\n",
    "        al[i] = al[i][::-1]\n",
    "        \n",
    "    # return al[::-1]\n",
    "quick(words)\n",
    "# print(quick(words))\n",
    "print(words)"
   ]
  },
  {
   "cell_type": "markdown",
   "metadata": {},
   "source": [
    "### Exercise #2 <br>\n",
    "<p>Create a function that counts how many distinct words are in the string below, then outputs a dictionary with the words as the key and the value as the amount of times that word appears in the string.<br>Should output:<br>{'a': 5,<br>\n",
    " 'abstract': 1,<br>\n",
    " 'an': 3,<br>\n",
    " 'array': 2, ... etc...</p>"
   ]
  },
  {
   "cell_type": "code",
   "execution_count": 102,
   "metadata": {},
   "outputs": [
    {
     "name": "stdout",
     "output_type": "stream",
     "text": [
      "{'In': 1, 'computing': 1, 'a': 4, 'hash': 3, \"table's\": 1, \"ta'eth'\": 1, \"'hash\": 1, 'map': 2, 'is': 1, 'data': 2, 'structure': 2, 'which': 2, 'implements': 1, 'an': 3, 'associative': 1, 'array': 2, 'abstract': 1, 'type': 1, 'that': 1, 'can': 2, 'keys': 1, 'to': 2, 'values': 1, 'A': 1, 'table': 1, 'uses': 1, 'function': 1, 'compute': 1, 'index': 1, 'into': 1, 'of': 1, 'buckets': 1, 'or': 1, 'slots': 1, 'from': 1, 'the': 1, 'desired': 1, 'value': 1, 'be': 1, 'found': 1}\n"
     ]
    }
   ],
   "source": [
    "import re\n",
    "a_text = \"In computing, a hash table's ta'eth' ' 'hash map is a data structure which implements an associative array abstract data type, a structure that can map keys to values. A hash table uses a hash function to compute an index into an array of buckets or slots from which the desired value can be found\"\n",
    "pattern = re.compile(\"[\\w]+\")\n",
    "word_dict= {}\n",
    "\n",
    "words = re.findall(\"\\w*'*[\\w]+'?\", a_text)\n",
    "for word in words:\n",
    "    word_dict[word] = word_dict.get(word, 0) + 1\n",
    "\n",
    "print(word_dict)"
   ]
  },
  {
   "cell_type": "markdown",
   "metadata": {},
   "source": [
    "## Exercise #3\n",
    "\n",
    "Write a program to implement a Linear Search Algorithm. Also in a comment, write the Time Complexity of the following algorithm.\n",
    "\n",
    "#### Hint: Linear Searching will require searching a list for a given number. "
   ]
  },
  {
   "cell_type": "code",
   "execution_count": null,
   "metadata": {},
   "outputs": [],
   "source": [
    "def search(a_list, target):\n",
    "    for item in a_list:\n",
    "        if item == target:\n",
    "            return item"
   ]
  }
 ],
 "metadata": {
  "kernelspec": {
   "display_name": "Python 3.10.8 64-bit (microsoft store)",
   "language": "python",
   "name": "python3"
  },
  "language_info": {
   "codemirror_mode": {
    "name": "ipython",
    "version": 3
   },
   "file_extension": ".py",
   "mimetype": "text/x-python",
   "name": "python",
   "nbconvert_exporter": "python",
   "pygments_lexer": "ipython3",
   "version": "3.10.8"
  },
  "vscode": {
   "interpreter": {
    "hash": "ef32b81f0b2c94112148f9a96d81c5672ba62a54109979e68061907948590454"
   }
  }
 },
 "nbformat": 4,
 "nbformat_minor": 2
}
